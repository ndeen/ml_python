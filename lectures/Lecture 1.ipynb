{
 "cells": [
  {
   "cell_type": "markdown",
   "id": "76879f08",
   "metadata": {},
   "source": [
    "List Comprehension"
   ]
  },
  {
   "cell_type": "code",
   "execution_count": 7,
   "id": "66bd0cf5",
   "metadata": {
    "scrolled": true
   },
   "outputs": [
    {
     "name": "stdout",
     "output_type": "stream",
     "text": [
      "[2, 8]\n",
      "[2, 8]\n"
     ]
    }
   ],
   "source": [
    "x = [2,3,7,8,9]\n",
    "\n",
    "# loop\n",
    "y = []\n",
    "for e in x:\n",
    "    if e % 2 == 0:\n",
    "        y.append(e)\n",
    "        \n",
    "print(y)\n",
    "\n",
    "# comprehension\n",
    "z = [e for e in x if e % 2 == 0]\n",
    "\n",
    "print(z)"
   ]
  },
  {
   "cell_type": "code",
   "execution_count": null,
   "id": "9c845bf0",
   "metadata": {},
   "outputs": [],
   "source": []
  }
 ],
 "metadata": {
  "kernelspec": {
   "display_name": "Python 3.9.7 64-bit ('bc': conda)",
   "language": "python",
   "name": "python397jvsc74a57bd01f072542d6d5caa73604f90e25da2457f2b329b3e1ef600071a4da80244cb705"
  },
  "language_info": {
   "codemirror_mode": {
    "name": "ipython",
    "version": 3
   },
   "file_extension": ".py",
   "mimetype": "text/x-python",
   "name": "python",
   "nbconvert_exporter": "python",
   "pygments_lexer": "ipython3",
   "version": "3.9.7"
  }
 },
 "nbformat": 4,
 "nbformat_minor": 5
}
