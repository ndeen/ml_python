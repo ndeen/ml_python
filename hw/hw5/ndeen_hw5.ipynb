{
 "cells": [
  {
   "cell_type": "code",
   "execution_count": 65,
   "metadata": {},
   "outputs": [],
   "source": [
    "import pandas as pd\n",
    "import numpy as np\n",
    "from sklearn.tree import DecisionTreeClassifier\n",
    "from sklearn.naive_bayes import GaussianNB\n",
    "from sklearn.metrics import confusion_matrix\n",
    "from sklearn.metrics import accuracy_score\n",
    "import seaborn as sns\n",
    "import matplotlib.pyplot as plt\n",
    "from sklearn.ensemble import RandomForestClassifier"
   ]
  },
  {
   "cell_type": "markdown",
   "metadata": {},
   "source": [
    "### 1 - Data Prep"
   ]
  },
  {
   "cell_type": "code",
   "execution_count": 21,
   "metadata": {},
   "outputs": [
    {
     "data": {
      "text/html": [
       "<div>\n",
       "<style scoped>\n",
       "    .dataframe tbody tr th:only-of-type {\n",
       "        vertical-align: middle;\n",
       "    }\n",
       "\n",
       "    .dataframe tbody tr th {\n",
       "        vertical-align: top;\n",
       "    }\n",
       "\n",
       "    .dataframe thead th {\n",
       "        text-align: right;\n",
       "    }\n",
       "</style>\n",
       "<table border=\"1\" class=\"dataframe\">\n",
       "  <thead>\n",
       "    <tr style=\"text-align: right;\">\n",
       "      <th></th>\n",
       "      <th>FileName</th>\n",
       "      <th>Date</th>\n",
       "      <th>SegFile</th>\n",
       "      <th>b</th>\n",
       "      <th>e</th>\n",
       "      <th>LBE</th>\n",
       "      <th>LB</th>\n",
       "      <th>AC</th>\n",
       "      <th>FM</th>\n",
       "      <th>UC</th>\n",
       "      <th>...</th>\n",
       "      <th>C</th>\n",
       "      <th>D</th>\n",
       "      <th>E</th>\n",
       "      <th>AD</th>\n",
       "      <th>DE</th>\n",
       "      <th>LD</th>\n",
       "      <th>FS</th>\n",
       "      <th>SUSP</th>\n",
       "      <th>CLASS</th>\n",
       "      <th>NSP</th>\n",
       "    </tr>\n",
       "  </thead>\n",
       "  <tbody>\n",
       "    <tr>\n",
       "      <th>0</th>\n",
       "      <td>Variab10.txt</td>\n",
       "      <td>12/1/96</td>\n",
       "      <td>CTG0001.txt</td>\n",
       "      <td>240.0</td>\n",
       "      <td>357.0</td>\n",
       "      <td>120.0</td>\n",
       "      <td>120.0</td>\n",
       "      <td>0.0</td>\n",
       "      <td>0.0</td>\n",
       "      <td>0.0</td>\n",
       "      <td>...</td>\n",
       "      <td>0.0</td>\n",
       "      <td>0.0</td>\n",
       "      <td>0.0</td>\n",
       "      <td>0.0</td>\n",
       "      <td>0.0</td>\n",
       "      <td>0.0</td>\n",
       "      <td>1.0</td>\n",
       "      <td>0.0</td>\n",
       "      <td>9.0</td>\n",
       "      <td>2.0</td>\n",
       "    </tr>\n",
       "    <tr>\n",
       "      <th>1</th>\n",
       "      <td>Fmcs_1.txt</td>\n",
       "      <td>5/3/96</td>\n",
       "      <td>CTG0002.txt</td>\n",
       "      <td>5.0</td>\n",
       "      <td>632.0</td>\n",
       "      <td>132.0</td>\n",
       "      <td>132.0</td>\n",
       "      <td>4.0</td>\n",
       "      <td>0.0</td>\n",
       "      <td>4.0</td>\n",
       "      <td>...</td>\n",
       "      <td>0.0</td>\n",
       "      <td>0.0</td>\n",
       "      <td>0.0</td>\n",
       "      <td>1.0</td>\n",
       "      <td>0.0</td>\n",
       "      <td>0.0</td>\n",
       "      <td>0.0</td>\n",
       "      <td>0.0</td>\n",
       "      <td>6.0</td>\n",
       "      <td>1.0</td>\n",
       "    </tr>\n",
       "    <tr>\n",
       "      <th>2</th>\n",
       "      <td>Fmcs_1.txt</td>\n",
       "      <td>5/3/96</td>\n",
       "      <td>CTG0003.txt</td>\n",
       "      <td>177.0</td>\n",
       "      <td>779.0</td>\n",
       "      <td>133.0</td>\n",
       "      <td>133.0</td>\n",
       "      <td>2.0</td>\n",
       "      <td>0.0</td>\n",
       "      <td>5.0</td>\n",
       "      <td>...</td>\n",
       "      <td>0.0</td>\n",
       "      <td>0.0</td>\n",
       "      <td>0.0</td>\n",
       "      <td>1.0</td>\n",
       "      <td>0.0</td>\n",
       "      <td>0.0</td>\n",
       "      <td>0.0</td>\n",
       "      <td>0.0</td>\n",
       "      <td>6.0</td>\n",
       "      <td>1.0</td>\n",
       "    </tr>\n",
       "    <tr>\n",
       "      <th>3</th>\n",
       "      <td>Fmcs_1.txt</td>\n",
       "      <td>5/3/96</td>\n",
       "      <td>CTG0004.txt</td>\n",
       "      <td>411.0</td>\n",
       "      <td>1192.0</td>\n",
       "      <td>134.0</td>\n",
       "      <td>134.0</td>\n",
       "      <td>2.0</td>\n",
       "      <td>0.0</td>\n",
       "      <td>6.0</td>\n",
       "      <td>...</td>\n",
       "      <td>0.0</td>\n",
       "      <td>0.0</td>\n",
       "      <td>0.0</td>\n",
       "      <td>1.0</td>\n",
       "      <td>0.0</td>\n",
       "      <td>0.0</td>\n",
       "      <td>0.0</td>\n",
       "      <td>0.0</td>\n",
       "      <td>6.0</td>\n",
       "      <td>1.0</td>\n",
       "    </tr>\n",
       "    <tr>\n",
       "      <th>4</th>\n",
       "      <td>Fmcs_1.txt</td>\n",
       "      <td>5/3/96</td>\n",
       "      <td>CTG0005.txt</td>\n",
       "      <td>533.0</td>\n",
       "      <td>1147.0</td>\n",
       "      <td>132.0</td>\n",
       "      <td>132.0</td>\n",
       "      <td>4.0</td>\n",
       "      <td>0.0</td>\n",
       "      <td>5.0</td>\n",
       "      <td>...</td>\n",
       "      <td>0.0</td>\n",
       "      <td>0.0</td>\n",
       "      <td>0.0</td>\n",
       "      <td>0.0</td>\n",
       "      <td>0.0</td>\n",
       "      <td>0.0</td>\n",
       "      <td>0.0</td>\n",
       "      <td>0.0</td>\n",
       "      <td>2.0</td>\n",
       "      <td>1.0</td>\n",
       "    </tr>\n",
       "  </tbody>\n",
       "</table>\n",
       "<p>5 rows × 40 columns</p>\n",
       "</div>"
      ],
      "text/plain": [
       "       FileName     Date      SegFile      b       e    LBE     LB   AC   FM  \\\n",
       "0  Variab10.txt  12/1/96  CTG0001.txt  240.0   357.0  120.0  120.0  0.0  0.0   \n",
       "1    Fmcs_1.txt   5/3/96  CTG0002.txt    5.0   632.0  132.0  132.0  4.0  0.0   \n",
       "2    Fmcs_1.txt   5/3/96  CTG0003.txt  177.0   779.0  133.0  133.0  2.0  0.0   \n",
       "3    Fmcs_1.txt   5/3/96  CTG0004.txt  411.0  1192.0  134.0  134.0  2.0  0.0   \n",
       "4    Fmcs_1.txt   5/3/96  CTG0005.txt  533.0  1147.0  132.0  132.0  4.0  0.0   \n",
       "\n",
       "    UC  ...    C    D    E   AD   DE   LD   FS  SUSP  CLASS  NSP  \n",
       "0  0.0  ...  0.0  0.0  0.0  0.0  0.0  0.0  1.0   0.0    9.0  2.0  \n",
       "1  4.0  ...  0.0  0.0  0.0  1.0  0.0  0.0  0.0   0.0    6.0  1.0  \n",
       "2  5.0  ...  0.0  0.0  0.0  1.0  0.0  0.0  0.0   0.0    6.0  1.0  \n",
       "3  6.0  ...  0.0  0.0  0.0  1.0  0.0  0.0  0.0   0.0    6.0  1.0  \n",
       "4  5.0  ...  0.0  0.0  0.0  0.0  0.0  0.0  0.0   0.0    2.0  1.0  \n",
       "\n",
       "[5 rows x 40 columns]"
      ]
     },
     "execution_count": 21,
     "metadata": {},
     "output_type": "execute_result"
    }
   ],
   "source": [
    "# load the excel data into Pandas dataframe\n",
    "raw_df = pd.read_csv('CTG_raw.csv')\n",
    "raw_df.head()"
   ]
  },
  {
   "cell_type": "code",
   "execution_count": 28,
   "metadata": {},
   "outputs": [],
   "source": [
    "# combine NSP labels into two groups (Normal=1, Abnormal=0)\n",
    "raw_df['NSP'] = np.where(raw_df['NSP']==1,1,0)"
   ]
  },
  {
   "cell_type": "markdown",
   "metadata": {},
   "source": [
    "### 2 - Naive Bayes"
   ]
  },
  {
   "cell_type": "code",
   "execution_count": 41,
   "metadata": {},
   "outputs": [],
   "source": [
    "# drop NaN from df\n",
    "model_df = raw_df.copy()[['LB','ALTV','Min','Mean','NSP']].dropna()"
   ]
  },
  {
   "cell_type": "code",
   "execution_count": 45,
   "metadata": {},
   "outputs": [],
   "source": [
    "from sklearn.model_selection import train_test_split\n",
    "\n",
    "# Group 1 LB, ALTV, Min, Mean\n",
    "X = model_df.copy()[['LB','ALTV','Min','Mean']].to_numpy()\n",
    "y = model_df.copy()[['NSP']].to_numpy()\n",
    "\n",
    "X_train, X_test, y_train, y_test = train_test_split(X, y, test_size=0.5, stratify=y)"
   ]
  },
  {
   "cell_type": "code",
   "execution_count": 58,
   "metadata": {},
   "outputs": [
    {
     "name": "stdout",
     "output_type": "stream",
     "text": [
      "Naive Bayes Confusion Matrix: \n",
      " [[113 123]\n",
      " [ 59 768]]\n",
      "\n",
      "Naive Bayes Accuracy: 0.83\n"
     ]
    },
    {
     "name": "stderr",
     "output_type": "stream",
     "text": [
      "/Users/ndeen/opt/anaconda3/envs/sandbox/lib/python3.9/site-packages/sklearn/utils/validation.py:1111: DataConversionWarning: A column-vector y was passed when a 1d array was expected. Please change the shape of y to (n_samples, ), for example using ravel().\n",
      "  y = column_or_1d(y, warn=True)\n"
     ]
    },
    {
     "data": {
      "text/plain": [
       "Text(83.40000000000006, 0.5, 'predicted label')"
      ]
     },
     "execution_count": 58,
     "metadata": {},
     "output_type": "execute_result"
    },
    {
     "data": {
      "image/png": "[encoded data removed]",
      "text/plain": [
       "<Figure size 432x288 with 2 Axes>"
      ]
     },
     "metadata": {
      "needs_background": "light"
     },
     "output_type": "display_data"
    }
   ],
   "source": [
    "model = GaussianNB()\n",
    "model.fit(X_train, y_train)\n",
    "\n",
    "y_pred = model.predict(X_test)\n",
    "\n",
    "# Confusion Matrix\n",
    "nb_mat = confusion_matrix(y_test, y_pred)\n",
    "print(\"Naive Bayes Confusion Matrix: \\n\", nb_mat)\n",
    "\n",
    "# Accuracy\n",
    "nb_acc = accuracy_score(y_test, y_pred)\n",
    "print(\"\\nNaive Bayes Accuracy:\", round(nb_acc,2))\n",
    "\n",
    "sns.heatmap(nb_mat.T,square=True, annot=True, fmt = 'd', cbar=True)\n",
    "plt.xlabel('true label')\n",
    "plt.ylabel('predicted label')"
   ]
  },
  {
   "cell_type": "markdown",
   "metadata": {},
   "source": [
    "### 3 - Decision Tree"
   ]
  },
  {
   "cell_type": "code",
   "execution_count": 62,
   "metadata": {},
   "outputs": [
    {
     "name": "stdout",
     "output_type": "stream",
     "text": [
      "Decision Tree Confusion Matrix: \n",
      " [[172  64]\n",
      " [ 71 756]]\n",
      "\n",
      "Decision Tree  Accuracy: 0.87\n"
     ]
    },
    {
     "data": {
      "text/plain": [
       "Text(83.40000000000006, 0.5, 'predicted label')"
      ]
     },
     "execution_count": 62,
     "metadata": {},
     "output_type": "execute_result"
    },
    {
     "data": {
      "image/png": "[encoded data removed]",
      "text/plain": [
       "<Figure size 432x288 with 2 Axes>"
      ]
     },
     "metadata": {
      "needs_background": "light"
     },
     "output_type": "display_data"
    }
   ],
   "source": [
    "model = DecisionTreeClassifier()\n",
    "model.fit(X_train, y_train)\n",
    "\n",
    "y_pred = model.predict(X_test)\n",
    "\n",
    "# Confusion Matrix\n",
    "dt_mat = confusion_matrix(y_test, y_pred)\n",
    "print(\"Decision Tree Confusion Matrix: \\n\", dt_mat)\n",
    "\n",
    "# Accuracy\n",
    "dt_acc = accuracy_score(y_test, y_pred)\n",
    "print(\"\\nDecision Tree  Accuracy:\", round(dt_acc,2))\n",
    "\n",
    "sns.heatmap(dt_mat.T,square=True, annot=True, fmt = 'd', cbar=True)\n",
    "plt.xlabel('true label')\n",
    "plt.ylabel('predicted label')"
   ]
  },
  {
   "cell_type": "markdown",
   "metadata": {},
   "source": [
    "### 4 - Random Forest"
   ]
  },
  {
   "cell_type": "code",
   "execution_count": 72,
   "metadata": {},
   "outputs": [
    {
     "name": "stderr",
     "output_type": "stream",
     "text": [
      "/var/folders/x9/2w_yb2vs3bd5qx2pdcj080dr0000gq/T/ipykernel_13859/1254028663.py:6: DataConversionWarning: A column-vector y was passed when a 1d array was expected. Please change the shape of y to (n_samples,), for example using ravel().\n",
      "  model.fit(X_train, y_train)\n",
      "/var/folders/x9/2w_yb2vs3bd5qx2pdcj080dr0000gq/T/ipykernel_13859/1254028663.py:6: DataConversionWarning: A column-vector y was passed when a 1d array was expected. Please change the shape of y to (n_samples,), for example using ravel().\n",
      "  model.fit(X_train, y_train)\n",
      "/var/folders/x9/2w_yb2vs3bd5qx2pdcj080dr0000gq/T/ipykernel_13859/1254028663.py:6: DataConversionWarning: A column-vector y was passed when a 1d array was expected. Please change the shape of y to (n_samples,), for example using ravel().\n",
      "  model.fit(X_train, y_train)\n",
      "/var/folders/x9/2w_yb2vs3bd5qx2pdcj080dr0000gq/T/ipykernel_13859/1254028663.py:6: DataConversionWarning: A column-vector y was passed when a 1d array was expected. Please change the shape of y to (n_samples,), for example using ravel().\n",
      "  model.fit(X_train, y_train)\n",
      "/var/folders/x9/2w_yb2vs3bd5qx2pdcj080dr0000gq/T/ipykernel_13859/1254028663.py:6: DataConversionWarning: A column-vector y was passed when a 1d array was expected. Please change the shape of y to (n_samples,), for example using ravel().\n",
      "  model.fit(X_train, y_train)\n",
      "/var/folders/x9/2w_yb2vs3bd5qx2pdcj080dr0000gq/T/ipykernel_13859/1254028663.py:6: DataConversionWarning: A column-vector y was passed when a 1d array was expected. Please change the shape of y to (n_samples,), for example using ravel().\n",
      "  model.fit(X_train, y_train)\n",
      "/var/folders/x9/2w_yb2vs3bd5qx2pdcj080dr0000gq/T/ipykernel_13859/1254028663.py:6: DataConversionWarning: A column-vector y was passed when a 1d array was expected. Please change the shape of y to (n_samples,), for example using ravel().\n",
      "  model.fit(X_train, y_train)\n",
      "/var/folders/x9/2w_yb2vs3bd5qx2pdcj080dr0000gq/T/ipykernel_13859/1254028663.py:6: DataConversionWarning: A column-vector y was passed when a 1d array was expected. Please change the shape of y to (n_samples,), for example using ravel().\n",
      "  model.fit(X_train, y_train)\n",
      "/var/folders/x9/2w_yb2vs3bd5qx2pdcj080dr0000gq/T/ipykernel_13859/1254028663.py:6: DataConversionWarning: A column-vector y was passed when a 1d array was expected. Please change the shape of y to (n_samples,), for example using ravel().\n",
      "  model.fit(X_train, y_train)\n",
      "/var/folders/x9/2w_yb2vs3bd5qx2pdcj080dr0000gq/T/ipykernel_13859/1254028663.py:6: DataConversionWarning: A column-vector y was passed when a 1d array was expected. Please change the shape of y to (n_samples,), for example using ravel().\n",
      "  model.fit(X_train, y_train)\n",
      "/var/folders/x9/2w_yb2vs3bd5qx2pdcj080dr0000gq/T/ipykernel_13859/1254028663.py:6: DataConversionWarning: A column-vector y was passed when a 1d array was expected. Please change the shape of y to (n_samples,), for example using ravel().\n",
      "  model.fit(X_train, y_train)\n",
      "/var/folders/x9/2w_yb2vs3bd5qx2pdcj080dr0000gq/T/ipykernel_13859/1254028663.py:6: DataConversionWarning: A column-vector y was passed when a 1d array was expected. Please change the shape of y to (n_samples,), for example using ravel().\n",
      "  model.fit(X_train, y_train)\n",
      "/var/folders/x9/2w_yb2vs3bd5qx2pdcj080dr0000gq/T/ipykernel_13859/1254028663.py:6: DataConversionWarning: A column-vector y was passed when a 1d array was expected. Please change the shape of y to (n_samples,), for example using ravel().\n",
      "  model.fit(X_train, y_train)\n",
      "/var/folders/x9/2w_yb2vs3bd5qx2pdcj080dr0000gq/T/ipykernel_13859/1254028663.py:6: DataConversionWarning: A column-vector y was passed when a 1d array was expected. Please change the shape of y to (n_samples,), for example using ravel().\n",
      "  model.fit(X_train, y_train)\n",
      "/var/folders/x9/2w_yb2vs3bd5qx2pdcj080dr0000gq/T/ipykernel_13859/1254028663.py:6: DataConversionWarning: A column-vector y was passed when a 1d array was expected. Please change the shape of y to (n_samples,), for example using ravel().\n",
      "  model.fit(X_train, y_train)\n",
      "/var/folders/x9/2w_yb2vs3bd5qx2pdcj080dr0000gq/T/ipykernel_13859/1254028663.py:6: DataConversionWarning: A column-vector y was passed when a 1d array was expected. Please change the shape of y to (n_samples,), for example using ravel().\n",
      "  model.fit(X_train, y_train)\n",
      "/var/folders/x9/2w_yb2vs3bd5qx2pdcj080dr0000gq/T/ipykernel_13859/1254028663.py:6: DataConversionWarning: A column-vector y was passed when a 1d array was expected. Please change the shape of y to (n_samples,), for example using ravel().\n",
      "  model.fit(X_train, y_train)\n",
      "/var/folders/x9/2w_yb2vs3bd5qx2pdcj080dr0000gq/T/ipykernel_13859/1254028663.py:6: DataConversionWarning: A column-vector y was passed when a 1d array was expected. Please change the shape of y to (n_samples,), for example using ravel().\n",
      "  model.fit(X_train, y_train)\n",
      "/var/folders/x9/2w_yb2vs3bd5qx2pdcj080dr0000gq/T/ipykernel_13859/1254028663.py:6: DataConversionWarning: A column-vector y was passed when a 1d array was expected. Please change the shape of y to (n_samples,), for example using ravel().\n",
      "  model.fit(X_train, y_train)\n",
      "/var/folders/x9/2w_yb2vs3bd5qx2pdcj080dr0000gq/T/ipykernel_13859/1254028663.py:6: DataConversionWarning: A column-vector y was passed when a 1d array was expected. Please change the shape of y to (n_samples,), for example using ravel().\n",
      "  model.fit(X_train, y_train)\n",
      "/var/folders/x9/2w_yb2vs3bd5qx2pdcj080dr0000gq/T/ipykernel_13859/1254028663.py:6: DataConversionWarning: A column-vector y was passed when a 1d array was expected. Please change the shape of y to (n_samples,), for example using ravel().\n",
      "  model.fit(X_train, y_train)\n",
      "/var/folders/x9/2w_yb2vs3bd5qx2pdcj080dr0000gq/T/ipykernel_13859/1254028663.py:6: DataConversionWarning: A column-vector y was passed when a 1d array was expected. Please change the shape of y to (n_samples,), for example using ravel().\n",
      "  model.fit(X_train, y_train)\n",
      "/var/folders/x9/2w_yb2vs3bd5qx2pdcj080dr0000gq/T/ipykernel_13859/1254028663.py:6: DataConversionWarning: A column-vector y was passed when a 1d array was expected. Please change the shape of y to (n_samples,), for example using ravel().\n",
      "  model.fit(X_train, y_train)\n",
      "/var/folders/x9/2w_yb2vs3bd5qx2pdcj080dr0000gq/T/ipykernel_13859/1254028663.py:6: DataConversionWarning: A column-vector y was passed when a 1d array was expected. Please change the shape of y to (n_samples,), for example using ravel().\n",
      "  model.fit(X_train, y_train)\n",
      "/var/folders/x9/2w_yb2vs3bd5qx2pdcj080dr0000gq/T/ipykernel_13859/1254028663.py:6: DataConversionWarning: A column-vector y was passed when a 1d array was expected. Please change the shape of y to (n_samples,), for example using ravel().\n",
      "  model.fit(X_train, y_train)\n",
      "/var/folders/x9/2w_yb2vs3bd5qx2pdcj080dr0000gq/T/ipykernel_13859/1254028663.py:6: DataConversionWarning: A column-vector y was passed when a 1d array was expected. Please change the shape of y to (n_samples,), for example using ravel().\n",
      "  model.fit(X_train, y_train)\n",
      "/var/folders/x9/2w_yb2vs3bd5qx2pdcj080dr0000gq/T/ipykernel_13859/1254028663.py:6: DataConversionWarning: A column-vector y was passed when a 1d array was expected. Please change the shape of y to (n_samples,), for example using ravel().\n",
      "  model.fit(X_train, y_train)\n",
      "/var/folders/x9/2w_yb2vs3bd5qx2pdcj080dr0000gq/T/ipykernel_13859/1254028663.py:6: DataConversionWarning: A column-vector y was passed when a 1d array was expected. Please change the shape of y to (n_samples,), for example using ravel().\n",
      "  model.fit(X_train, y_train)\n",
      "/var/folders/x9/2w_yb2vs3bd5qx2pdcj080dr0000gq/T/ipykernel_13859/1254028663.py:6: DataConversionWarning: A column-vector y was passed when a 1d array was expected. Please change the shape of y to (n_samples,), for example using ravel().\n",
      "  model.fit(X_train, y_train)\n",
      "/var/folders/x9/2w_yb2vs3bd5qx2pdcj080dr0000gq/T/ipykernel_13859/1254028663.py:6: DataConversionWarning: A column-vector y was passed when a 1d array was expected. Please change the shape of y to (n_samples,), for example using ravel().\n",
      "  model.fit(X_train, y_train)\n",
      "/var/folders/x9/2w_yb2vs3bd5qx2pdcj080dr0000gq/T/ipykernel_13859/1254028663.py:6: DataConversionWarning: A column-vector y was passed when a 1d array was expected. Please change the shape of y to (n_samples,), for example using ravel().\n",
      "  model.fit(X_train, y_train)\n",
      "/var/folders/x9/2w_yb2vs3bd5qx2pdcj080dr0000gq/T/ipykernel_13859/1254028663.py:6: DataConversionWarning: A column-vector y was passed when a 1d array was expected. Please change the shape of y to (n_samples,), for example using ravel().\n",
      "  model.fit(X_train, y_train)\n",
      "/var/folders/x9/2w_yb2vs3bd5qx2pdcj080dr0000gq/T/ipykernel_13859/1254028663.py:6: DataConversionWarning: A column-vector y was passed when a 1d array was expected. Please change the shape of y to (n_samples,), for example using ravel().\n",
      "  model.fit(X_train, y_train)\n",
      "/var/folders/x9/2w_yb2vs3bd5qx2pdcj080dr0000gq/T/ipykernel_13859/1254028663.py:6: DataConversionWarning: A column-vector y was passed when a 1d array was expected. Please change the shape of y to (n_samples,), for example using ravel().\n",
      "  model.fit(X_train, y_train)\n",
      "/var/folders/x9/2w_yb2vs3bd5qx2pdcj080dr0000gq/T/ipykernel_13859/1254028663.py:6: DataConversionWarning: A column-vector y was passed when a 1d array was expected. Please change the shape of y to (n_samples,), for example using ravel().\n",
      "  model.fit(X_train, y_train)\n",
      "/var/folders/x9/2w_yb2vs3bd5qx2pdcj080dr0000gq/T/ipykernel_13859/1254028663.py:6: DataConversionWarning: A column-vector y was passed when a 1d array was expected. Please change the shape of y to (n_samples,), for example using ravel().\n",
      "  model.fit(X_train, y_train)\n",
      "/var/folders/x9/2w_yb2vs3bd5qx2pdcj080dr0000gq/T/ipykernel_13859/1254028663.py:6: DataConversionWarning: A column-vector y was passed when a 1d array was expected. Please change the shape of y to (n_samples,), for example using ravel().\n",
      "  model.fit(X_train, y_train)\n",
      "/var/folders/x9/2w_yb2vs3bd5qx2pdcj080dr0000gq/T/ipykernel_13859/1254028663.py:6: DataConversionWarning: A column-vector y was passed when a 1d array was expected. Please change the shape of y to (n_samples,), for example using ravel().\n",
      "  model.fit(X_train, y_train)\n",
      "/var/folders/x9/2w_yb2vs3bd5qx2pdcj080dr0000gq/T/ipykernel_13859/1254028663.py:6: DataConversionWarning: A column-vector y was passed when a 1d array was expected. Please change the shape of y to (n_samples,), for example using ravel().\n",
      "  model.fit(X_train, y_train)\n",
      "/var/folders/x9/2w_yb2vs3bd5qx2pdcj080dr0000gq/T/ipykernel_13859/1254028663.py:6: DataConversionWarning: A column-vector y was passed when a 1d array was expected. Please change the shape of y to (n_samples,), for example using ravel().\n",
      "  model.fit(X_train, y_train)\n",
      "/var/folders/x9/2w_yb2vs3bd5qx2pdcj080dr0000gq/T/ipykernel_13859/1254028663.py:6: DataConversionWarning: A column-vector y was passed when a 1d array was expected. Please change the shape of y to (n_samples,), for example using ravel().\n",
      "  model.fit(X_train, y_train)\n",
      "/var/folders/x9/2w_yb2vs3bd5qx2pdcj080dr0000gq/T/ipykernel_13859/1254028663.py:6: DataConversionWarning: A column-vector y was passed when a 1d array was expected. Please change the shape of y to (n_samples,), for example using ravel().\n",
      "  model.fit(X_train, y_train)\n",
      "/var/folders/x9/2w_yb2vs3bd5qx2pdcj080dr0000gq/T/ipykernel_13859/1254028663.py:6: DataConversionWarning: A column-vector y was passed when a 1d array was expected. Please change the shape of y to (n_samples,), for example using ravel().\n",
      "  model.fit(X_train, y_train)\n",
      "/var/folders/x9/2w_yb2vs3bd5qx2pdcj080dr0000gq/T/ipykernel_13859/1254028663.py:6: DataConversionWarning: A column-vector y was passed when a 1d array was expected. Please change the shape of y to (n_samples,), for example using ravel().\n",
      "  model.fit(X_train, y_train)\n",
      "/var/folders/x9/2w_yb2vs3bd5qx2pdcj080dr0000gq/T/ipykernel_13859/1254028663.py:6: DataConversionWarning: A column-vector y was passed when a 1d array was expected. Please change the shape of y to (n_samples,), for example using ravel().\n",
      "  model.fit(X_train, y_train)\n",
      "/var/folders/x9/2w_yb2vs3bd5qx2pdcj080dr0000gq/T/ipykernel_13859/1254028663.py:6: DataConversionWarning: A column-vector y was passed when a 1d array was expected. Please change the shape of y to (n_samples,), for example using ravel().\n",
      "  model.fit(X_train, y_train)\n",
      "/var/folders/x9/2w_yb2vs3bd5qx2pdcj080dr0000gq/T/ipykernel_13859/1254028663.py:6: DataConversionWarning: A column-vector y was passed when a 1d array was expected. Please change the shape of y to (n_samples,), for example using ravel().\n",
      "  model.fit(X_train, y_train)\n",
      "/var/folders/x9/2w_yb2vs3bd5qx2pdcj080dr0000gq/T/ipykernel_13859/1254028663.py:6: DataConversionWarning: A column-vector y was passed when a 1d array was expected. Please change the shape of y to (n_samples,), for example using ravel().\n",
      "  model.fit(X_train, y_train)\n",
      "/var/folders/x9/2w_yb2vs3bd5qx2pdcj080dr0000gq/T/ipykernel_13859/1254028663.py:6: DataConversionWarning: A column-vector y was passed when a 1d array was expected. Please change the shape of y to (n_samples,), for example using ravel().\n",
      "  model.fit(X_train, y_train)\n",
      "/var/folders/x9/2w_yb2vs3bd5qx2pdcj080dr0000gq/T/ipykernel_13859/1254028663.py:6: DataConversionWarning: A column-vector y was passed when a 1d array was expected. Please change the shape of y to (n_samples,), for example using ravel().\n",
      "  model.fit(X_train, y_train)\n"
     ]
    }
   ],
   "source": [
    "acc_l = []\n",
    "\n",
    "for n in range(1,11):\n",
    "    for d in range(1,6):\n",
    "        model = RandomForestClassifier(n_estimators=n, max_depth=d, criterion=\"entropy\")\n",
    "        model.fit(X_train, y_train)\n",
    "\n",
    "        y_pred = model.predict(X_test)\n",
    "\n",
    "        # Confusion Matrix\n",
    "        #rf_mat = confusion_matrix(y_test, y_pred)\n",
    "        #print(\"Decision Tree Confusion Matrix: \\n\", rf_mat)\n",
    "\n",
    "        # Accuracy\n",
    "        rf_acc = accuracy_score(y_test, y_pred)\n",
    "        acc_l.append([(n,d),rf_acc])"
   ]
  },
  {
   "cell_type": "code",
   "execution_count": 73,
   "metadata": {},
   "outputs": [],
   "source": [
    "acc_df = pd.DataFrame(acc_l, columns = ['N-D','Acc'])"
   ]
  },
  {
   "cell_type": "code",
   "execution_count": 74,
   "metadata": {},
   "outputs": [
    {
     "data": {
      "text/html": [
       "<div>\n",
       "<style scoped>\n",
       "    .dataframe tbody tr th:only-of-type {\n",
       "        vertical-align: middle;\n",
       "    }\n",
       "\n",
       "    .dataframe tbody tr th {\n",
       "        vertical-align: top;\n",
       "    }\n",
       "\n",
       "    .dataframe thead th {\n",
       "        text-align: right;\n",
       "    }\n",
       "</style>\n",
       "<table border=\"1\" class=\"dataframe\">\n",
       "  <thead>\n",
       "    <tr style=\"text-align: right;\">\n",
       "      <th></th>\n",
       "      <th>N-D</th>\n",
       "      <th>Acc</th>\n",
       "    </tr>\n",
       "  </thead>\n",
       "  <tbody>\n",
       "    <tr>\n",
       "      <th>0</th>\n",
       "      <td>(1, 1)</td>\n",
       "      <td>0.809972</td>\n",
       "    </tr>\n",
       "    <tr>\n",
       "      <th>1</th>\n",
       "      <td>(1, 2)</td>\n",
       "      <td>0.806209</td>\n",
       "    </tr>\n",
       "    <tr>\n",
       "      <th>2</th>\n",
       "      <td>(1, 3)</td>\n",
       "      <td>0.843838</td>\n",
       "    </tr>\n",
       "    <tr>\n",
       "      <th>3</th>\n",
       "      <td>(1, 4)</td>\n",
       "      <td>0.836312</td>\n",
       "    </tr>\n",
       "    <tr>\n",
       "      <th>4</th>\n",
       "      <td>(1, 5)</td>\n",
       "      <td>0.870179</td>\n",
       "    </tr>\n",
       "  </tbody>\n",
       "</table>\n",
       "</div>"
      ],
      "text/plain": [
       "      N-D       Acc\n",
       "0  (1, 1)  0.809972\n",
       "1  (1, 2)  0.806209\n",
       "2  (1, 3)  0.843838\n",
       "3  (1, 4)  0.836312\n",
       "4  (1, 5)  0.870179"
      ]
     },
     "execution_count": 74,
     "metadata": {},
     "output_type": "execute_result"
    }
   ],
   "source": [
    "acc_df.head()"
   ]
  },
  {
   "cell_type": "code",
   "execution_count": 75,
   "metadata": {},
   "outputs": [
    {
     "data": {
      "text/plain": [
       "<AxesSubplot:xlabel='N-D'>"
      ]
     },
     "execution_count": 75,
     "metadata": {},
     "output_type": "execute_result"
    },
    {
     "data": {
      "image/png": "[encoded data removed]",
      "text/plain": [
       "<Figure size 432x288 with 1 Axes>"
      ]
     },
     "metadata": {
      "needs_background": "light"
     },
     "output_type": "display_data"
    }
   ],
   "source": [
    "# plot error rates and find the best combination of N and d\n",
    "acc_df.plot('N-D','Acc')"
   ]
  },
  {
   "cell_type": "markdown",
   "metadata": {},
   "source": [
    "The best combination of *N* and *d* is *N* = 9 and *d* = 1. This combination yields and accuracy of 0.88."
   ]
  },
  {
   "cell_type": "code",
   "execution_count": 80,
   "metadata": {},
   "outputs": [
    {
     "name": "stdout",
     "output_type": "stream",
     "text": [
      "Random Forest Confusion Matrix: \n",
      " [[ 34 202]\n",
      " [ 11 816]]\n"
     ]
    },
    {
     "name": "stderr",
     "output_type": "stream",
     "text": [
      "/var/folders/x9/2w_yb2vs3bd5qx2pdcj080dr0000gq/T/ipykernel_13859/1106178580.py:5: DataConversionWarning: A column-vector y was passed when a 1d array was expected. Please change the shape of y to (n_samples,), for example using ravel().\n",
      "  model.fit(X_train, y_train)\n"
     ]
    }
   ],
   "source": [
    "n = 9\n",
    "d = 1\n",
    "# Confusion matrix\n",
    "model = RandomForestClassifier(n_estimators=n, max_depth=d, criterion=\"entropy\")\n",
    "model.fit(X_train, y_train)\n",
    "\n",
    "y_pred = model.predict(X_test)\n",
    "\n",
    "# Confusion Matrix\n",
    "rf_mat = confusion_matrix(y_test, y_pred)\n",
    "print(\"Random Forest Confusion Matrix: \\n\", rf_mat)"
   ]
  },
  {
   "cell_type": "markdown",
   "metadata": {},
   "source": [
    "### 5 - Summary"
   ]
  },
  {
   "cell_type": "code",
   "execution_count": 85,
   "metadata": {},
   "outputs": [
    {
     "data": {
      "text/plain": [
       "<sklearn.metrics._plot.confusion_matrix.ConfusionMatrixDisplay at 0x7fe69b872ac0>"
      ]
     },
     "execution_count": 85,
     "metadata": {},
     "output_type": "execute_result"
    },
    {
     "data": {
      "image/png": "[encoded data removed]",
      "text/plain": [
       "<Figure size 432x288 with 2 Axes>"
      ]
     },
     "metadata": {
      "needs_background": "light"
     },
     "output_type": "display_data"
    }
   ],
   "source": [
    "from sklearn.metrics import ConfusionMatrixDisplay\n",
    "\n",
    "# look at the naive bayes plot to ensure the right calculations/labels\n",
    "disp = ConfusionMatrixDisplay(confusion_matrix=nb_mat)\n",
    "disp.plot()"
   ]
  },
  {
   "cell_type": "code",
   "execution_count": 91,
   "metadata": {},
   "outputs": [],
   "source": [
    "# calculate metrics\n",
    "\n",
    "# naive bayes\n",
    "nb_tn = nb_mat[0][0]\n",
    "nb_fn = nb_mat[1][0]\n",
    "nb_tp = nb_mat[1][1]\n",
    "nb_fp = nb_mat[1][0]\n",
    "nb_tpr = nb_tp / (nb_tp + nb_fn)\n",
    "nb_tnr = nb_tn / (nb_tn + nb_fp)\n",
    "\n",
    "# decision tree\n",
    "dt_tn = dt_mat[0][0]\n",
    "dt_fn = dt_mat[1][0]\n",
    "dt_tp = dt_mat[1][1]\n",
    "dt_fp = dt_mat[1][0]\n",
    "dt_tpr = dt_tp / (dt_tp + dt_fn)\n",
    "dt_tnr = dt_tn / (dt_tn + dt_fp)\n",
    "\n",
    "# random forest\n",
    "rf_tn = rf_mat[0][0]\n",
    "rf_fn = rf_mat[1][0]\n",
    "rf_tp = rf_mat[1][1]\n",
    "rf_fp = rf_mat[1][0]\n",
    "rf_tpr = rf_tp / (rf_tp + rf_fn)\n",
    "rf_tnr = rf_tn / (rf_tn + rf_fp)"
   ]
  },
  {
   "cell_type": "code",
   "execution_count": 93,
   "metadata": {},
   "outputs": [
    {
     "data": {
      "text/html": [
       "<div>\n",
       "<style scoped>\n",
       "    .dataframe tbody tr th:only-of-type {\n",
       "        vertical-align: middle;\n",
       "    }\n",
       "\n",
       "    .dataframe tbody tr th {\n",
       "        vertical-align: top;\n",
       "    }\n",
       "\n",
       "    .dataframe thead th {\n",
       "        text-align: right;\n",
       "    }\n",
       "</style>\n",
       "<table border=\"1\" class=\"dataframe\">\n",
       "  <thead>\n",
       "    <tr style=\"text-align: right;\">\n",
       "      <th></th>\n",
       "      <th>Model</th>\n",
       "      <th>TP</th>\n",
       "      <th>FP</th>\n",
       "      <th>TN</th>\n",
       "      <th>FN</th>\n",
       "      <th>Accuracy</th>\n",
       "      <th>TPR</th>\n",
       "      <th>TNR</th>\n",
       "    </tr>\n",
       "  </thead>\n",
       "  <tbody>\n",
       "    <tr>\n",
       "      <th>0</th>\n",
       "      <td>Naive Bayesian</td>\n",
       "      <td>768</td>\n",
       "      <td>59</td>\n",
       "      <td>113</td>\n",
       "      <td>59</td>\n",
       "      <td>0.828786</td>\n",
       "      <td>0.928658</td>\n",
       "      <td>0.656977</td>\n",
       "    </tr>\n",
       "    <tr>\n",
       "      <th>1</th>\n",
       "      <td>Decision Tree</td>\n",
       "      <td>756</td>\n",
       "      <td>71</td>\n",
       "      <td>172</td>\n",
       "      <td>71</td>\n",
       "      <td>0.873001</td>\n",
       "      <td>0.914148</td>\n",
       "      <td>0.707819</td>\n",
       "    </tr>\n",
       "    <tr>\n",
       "      <th>2</th>\n",
       "      <td>Random Forest</td>\n",
       "      <td>816</td>\n",
       "      <td>11</td>\n",
       "      <td>34</td>\n",
       "      <td>11</td>\n",
       "      <td>0.885230</td>\n",
       "      <td>0.986699</td>\n",
       "      <td>0.755556</td>\n",
       "    </tr>\n",
       "  </tbody>\n",
       "</table>\n",
       "</div>"
      ],
      "text/plain": [
       "            Model   TP  FP   TN  FN  Accuracy       TPR       TNR\n",
       "0  Naive Bayesian  768  59  113  59  0.828786  0.928658  0.656977\n",
       "1   Decision Tree  756  71  172  71  0.873001  0.914148  0.707819\n",
       "2   Random Forest  816  11   34  11  0.885230  0.986699  0.755556"
      ]
     },
     "execution_count": 93,
     "metadata": {},
     "output_type": "execute_result"
    }
   ],
   "source": [
    "summary = [['Naive Bayesian', nb_tp, nb_fp, nb_tn, nb_fn, nb_acc, nb_tpr, nb_tnr],\n",
    "        ['Decision Tree', dt_tp, dt_fp, dt_tn, dt_fn, dt_acc, dt_tpr, dt_tnr],\n",
    "        ['Random Forest', rf_tp, rf_fp, rf_tn, rf_fn, rf_acc, rf_tpr, rf_tnr],\n",
    "        ]\n",
    "\n",
    "summary_df = pd.DataFrame(summary, columns=['Model',' TP','FP','TN','FN','Accuracy','TPR','TNR'])\n",
    "summary_df.head()"
   ]
  },
  {
   "cell_type": "markdown",
   "metadata": {},
   "source": [
    "Based on these results, the random forest model produces the highest accuracy. This is a function of the high number of positive results. I believe this could be because of the continuous variables used to identify the fetus' abnormality status. If there are very strict cutoffs, it may be easier for a decision tree / random forest model to separate the classes."
   ]
  },
  {
   "cell_type": "code",
   "execution_count": null,
   "metadata": {},
   "outputs": [],
   "source": []
  }
 ],
 "metadata": {
  "kernelspec": {
   "display_name": "Python 3.9.7 ('sandbox')",
   "language": "python",
   "name": "python3"
  },
  "language_info": {
   "codemirror_mode": {
    "name": "ipython",
    "version": 3
   },
   "file_extension": ".py",
   "mimetype": "text/x-python",
   "name": "python",
   "nbconvert_exporter": "python",
   "pygments_lexer": "ipython3",
   "version": "3.9.7"
  },
  "orig_nbformat": 4,
  "vscode": {
   "interpreter": {
    "hash": "90d758a86ec7f5aa4983651b17170b0f5bed8857654228dbe30d5d0c76504303"
   }
  }
 },
 "nbformat": 4,
 "nbformat_minor": 2
}
