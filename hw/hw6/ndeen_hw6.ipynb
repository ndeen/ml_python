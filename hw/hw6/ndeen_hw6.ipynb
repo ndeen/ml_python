{
 "cells": [
  {
   "cell_type": "code",
   "execution_count": 68,
   "metadata": {},
   "outputs": [],
   "source": [
    "import pandas as pd\n",
    "import numpy as np\n",
    "from sklearn.preprocessing import StandardScaler\n",
    "from sklearn.metrics import confusion_matrix\n",
    "from sklearn.metrics import accuracy_score\n",
    "from sklearn import svm\n",
    "from sklearn.svm import LinearSVC\n",
    "from sklearn.naive_bayes import GaussianNB\n",
    "from sklearn.cluster import KMeans\n",
    "from sklearn.pipeline import Pipeline\n",
    "from sklearn.model_selection import train_test_split\n",
    "import matplotlib.pyplot as plt\n",
    "import seaborn as sns  # another popular data visualization tool\n",
    "\n",
    "%matplotlib inline\n",
    "\n",
    "plt.style.use('fivethirtyeight')  # a popular data visualization theme"
   ]
  },
  {
   "cell_type": "markdown",
   "metadata": {},
   "source": [
    "### 0 - Setup"
   ]
  },
  {
   "cell_type": "markdown",
   "metadata": {},
   "source": [
    "Task: implement k-means clustering and use it to construct a multi-label classifier to determine the variery of wheat. For the dataset, we use ”seeds” dataset from the\n",
    "machine Learning depository at UCI: https://archive.ics.uci.edu/ml/datasets/seeds\n",
    "\n",
    "Dataset Description: From the website: ”... The examined group comprised kernels belonging to three different\n",
    "varieties of wheat: Kama, Rosa and Canadian, 70 elements each, randomly selected for the experiment...”\n",
    "\n",
    "There are 7 (continuous) features) F = {f1, . . . , f7} and a class label L (Kama: 1, Rosa: 2, Canadian: 3).\n",
    "\n",
    "1. f1: area A\n",
    "2. f2: perimeter P\n",
    "3. f3: compactness C = 4πA/P2\n",
    "4. f4: length of kernel,\n",
    "5. f5: width of kernel,\n",
    "6. f6: asymmetry coefficient\n",
    "7. f7: length of kernel groove.\n",
    "8. L: class (Kama: 1, Rosa: 2, Canadian: 3)\n",
    "\n",
    "**Group: class L = 1 (negative) and L = 2 (positive)**"
   ]
  },
  {
   "cell_type": "code",
   "execution_count": 4,
   "metadata": {},
   "outputs": [
    {
     "data": {
      "text/html": [
       "<div>\n",
       "<style scoped>\n",
       "    .dataframe tbody tr th:only-of-type {\n",
       "        vertical-align: middle;\n",
       "    }\n",
       "\n",
       "    .dataframe tbody tr th {\n",
       "        vertical-align: top;\n",
       "    }\n",
       "\n",
       "    .dataframe thead th {\n",
       "        text-align: right;\n",
       "    }\n",
       "</style>\n",
       "<table border=\"1\" class=\"dataframe\">\n",
       "  <thead>\n",
       "    <tr style=\"text-align: right;\">\n",
       "      <th></th>\n",
       "      <th>f1</th>\n",
       "      <th>f2</th>\n",
       "      <th>f3</th>\n",
       "      <th>f4</th>\n",
       "      <th>f5</th>\n",
       "      <th>f6</th>\n",
       "      <th>f7</th>\n",
       "      <th>L</th>\n",
       "    </tr>\n",
       "  </thead>\n",
       "  <tbody>\n",
       "    <tr>\n",
       "      <th>0</th>\n",
       "      <td>15.26</td>\n",
       "      <td>14.84</td>\n",
       "      <td>0.8710</td>\n",
       "      <td>5.763</td>\n",
       "      <td>3.312</td>\n",
       "      <td>2.221</td>\n",
       "      <td>5.220</td>\n",
       "      <td>1</td>\n",
       "    </tr>\n",
       "    <tr>\n",
       "      <th>1</th>\n",
       "      <td>14.88</td>\n",
       "      <td>14.57</td>\n",
       "      <td>0.8811</td>\n",
       "      <td>5.554</td>\n",
       "      <td>3.333</td>\n",
       "      <td>1.018</td>\n",
       "      <td>4.956</td>\n",
       "      <td>1</td>\n",
       "    </tr>\n",
       "    <tr>\n",
       "      <th>2</th>\n",
       "      <td>14.29</td>\n",
       "      <td>14.09</td>\n",
       "      <td>0.9050</td>\n",
       "      <td>5.291</td>\n",
       "      <td>3.337</td>\n",
       "      <td>2.699</td>\n",
       "      <td>4.825</td>\n",
       "      <td>1</td>\n",
       "    </tr>\n",
       "    <tr>\n",
       "      <th>3</th>\n",
       "      <td>13.84</td>\n",
       "      <td>13.94</td>\n",
       "      <td>0.8955</td>\n",
       "      <td>5.324</td>\n",
       "      <td>3.379</td>\n",
       "      <td>2.259</td>\n",
       "      <td>4.805</td>\n",
       "      <td>1</td>\n",
       "    </tr>\n",
       "    <tr>\n",
       "      <th>4</th>\n",
       "      <td>16.14</td>\n",
       "      <td>14.99</td>\n",
       "      <td>0.9034</td>\n",
       "      <td>5.658</td>\n",
       "      <td>3.562</td>\n",
       "      <td>1.355</td>\n",
       "      <td>5.175</td>\n",
       "      <td>1</td>\n",
       "    </tr>\n",
       "  </tbody>\n",
       "</table>\n",
       "</div>"
      ],
      "text/plain": [
       "      f1     f2      f3     f4     f5     f6     f7  L\n",
       "0  15.26  14.84  0.8710  5.763  3.312  2.221  5.220  1\n",
       "1  14.88  14.57  0.8811  5.554  3.333  1.018  4.956  1\n",
       "2  14.29  14.09  0.9050  5.291  3.337  2.699  4.825  1\n",
       "3  13.84  13.94  0.8955  5.324  3.379  2.259  4.805  1\n",
       "4  16.14  14.99  0.9034  5.658  3.562  1.355  5.175  1"
      ]
     },
     "execution_count": 4,
     "metadata": {},
     "output_type": "execute_result"
    }
   ],
   "source": [
    "raw_seeds = pd.read_csv('seeds_dataset.csv', sep=\"\\t\", names=['f1','f2','f3','f4','f5','f6', 'f7', 'L'])\n",
    "raw_seeds.head()"
   ]
  },
  {
   "cell_type": "code",
   "execution_count": 24,
   "metadata": {},
   "outputs": [
    {
     "data": {
      "text/html": [
       "<div>\n",
       "<style scoped>\n",
       "    .dataframe tbody tr th:only-of-type {\n",
       "        vertical-align: middle;\n",
       "    }\n",
       "\n",
       "    .dataframe tbody tr th {\n",
       "        vertical-align: top;\n",
       "    }\n",
       "\n",
       "    .dataframe thead th {\n",
       "        text-align: right;\n",
       "    }\n",
       "</style>\n",
       "<table border=\"1\" class=\"dataframe\">\n",
       "  <thead>\n",
       "    <tr style=\"text-align: right;\">\n",
       "      <th></th>\n",
       "      <th>index</th>\n",
       "      <th>f1</th>\n",
       "      <th>f2</th>\n",
       "      <th>f3</th>\n",
       "      <th>f4</th>\n",
       "      <th>f5</th>\n",
       "      <th>f6</th>\n",
       "      <th>f7</th>\n",
       "      <th>L</th>\n",
       "    </tr>\n",
       "  </thead>\n",
       "  <tbody>\n",
       "    <tr>\n",
       "      <th>117</th>\n",
       "      <td>117</td>\n",
       "      <td>19.15</td>\n",
       "      <td>16.45</td>\n",
       "      <td>0.8890</td>\n",
       "      <td>6.245</td>\n",
       "      <td>3.815</td>\n",
       "      <td>3.084</td>\n",
       "      <td>6.185</td>\n",
       "      <td>2</td>\n",
       "    </tr>\n",
       "    <tr>\n",
       "      <th>103</th>\n",
       "      <td>103</td>\n",
       "      <td>19.18</td>\n",
       "      <td>16.63</td>\n",
       "      <td>0.8717</td>\n",
       "      <td>6.369</td>\n",
       "      <td>3.681</td>\n",
       "      <td>3.357</td>\n",
       "      <td>6.229</td>\n",
       "      <td>2</td>\n",
       "    </tr>\n",
       "    <tr>\n",
       "      <th>44</th>\n",
       "      <td>44</td>\n",
       "      <td>15.11</td>\n",
       "      <td>14.54</td>\n",
       "      <td>0.8986</td>\n",
       "      <td>5.579</td>\n",
       "      <td>3.462</td>\n",
       "      <td>3.128</td>\n",
       "      <td>5.180</td>\n",
       "      <td>1</td>\n",
       "    </tr>\n",
       "    <tr>\n",
       "      <th>67</th>\n",
       "      <td>67</td>\n",
       "      <td>14.01</td>\n",
       "      <td>14.29</td>\n",
       "      <td>0.8625</td>\n",
       "      <td>5.609</td>\n",
       "      <td>3.158</td>\n",
       "      <td>2.217</td>\n",
       "      <td>5.132</td>\n",
       "      <td>1</td>\n",
       "    </tr>\n",
       "    <tr>\n",
       "      <th>76</th>\n",
       "      <td>76</td>\n",
       "      <td>17.32</td>\n",
       "      <td>15.91</td>\n",
       "      <td>0.8599</td>\n",
       "      <td>6.064</td>\n",
       "      <td>3.403</td>\n",
       "      <td>3.824</td>\n",
       "      <td>5.922</td>\n",
       "      <td>2</td>\n",
       "    </tr>\n",
       "  </tbody>\n",
       "</table>\n",
       "</div>"
      ],
      "text/plain": [
       "     index     f1     f2      f3     f4     f5     f6     f7  L\n",
       "117    117  19.15  16.45  0.8890  6.245  3.815  3.084  6.185  2\n",
       "103    103  19.18  16.63  0.8717  6.369  3.681  3.357  6.229  2\n",
       "44      44  15.11  14.54  0.8986  5.579  3.462  3.128  5.180  1\n",
       "67      67  14.01  14.29  0.8625  5.609  3.158  2.217  5.132  1\n",
       "76      76  17.32  15.91  0.8599  6.064  3.403  3.824  5.922  2"
      ]
     },
     "execution_count": 24,
     "metadata": {},
     "output_type": "execute_result"
    }
   ],
   "source": [
    "# drop rows with L=3 based on the group assignment\n",
    "seeds = raw_seeds[raw_seeds['L']!=3].reset_index()\n",
    "seeds.sample(5)"
   ]
  },
  {
   "cell_type": "code",
   "execution_count": 25,
   "metadata": {},
   "outputs": [],
   "source": [
    "# prep data\n",
    "X = seeds.loc[:,'f1':'f7'].copy().to_numpy()\n",
    "y = seeds.loc[:, 'L'].copy().to_numpy()"
   ]
  },
  {
   "cell_type": "code",
   "execution_count": 46,
   "metadata": {},
   "outputs": [],
   "source": [
    "# split data into training and test sets\n",
    "X_train, X_test, y_train, y_test = train_test_split(X, y, test_size=0.5, stratify=y)"
   ]
  },
  {
   "cell_type": "markdown",
   "metadata": {},
   "source": [
    "### 1 - Support Vector Machines"
   ]
  },
  {
   "cell_type": "markdown",
   "metadata": {},
   "source": [
    "#### 1.1 Linear Kernal SVM"
   ]
  },
  {
   "cell_type": "code",
   "execution_count": 59,
   "metadata": {},
   "outputs": [
    {
     "name": "stdout",
     "output_type": "stream",
     "text": [
      "Linear Kernal SVM Confusion Matrix: \n",
      " [[31  4]\n",
      " [ 3 32]]\n",
      "\n",
      "Linear Kernal SVM Accuracy: 0.9\n"
     ]
    },
    {
     "name": "stderr",
     "output_type": "stream",
     "text": [
      "c:\\Users\\Nigel\\anaconda3\\envs\\cs677\\lib\\site-packages\\sklearn\\svm\\_base.py:1206: ConvergenceWarning: Liblinear failed to converge, increase the number of iterations.\n",
      "  warnings.warn(\n"
     ]
    },
    {
     "data": {
      "text/plain": [
       "Text(80.45200000000001, 0.5, 'predicted label')"
      ]
     },
     "execution_count": 59,
     "metadata": {},
     "output_type": "execute_result"
    },
    {
     "data": {
      "image/png": "[encoded data removed]",
      "text/plain": [
       "<Figure size 432x288 with 2 Axes>"
      ]
     },
     "metadata": {},
     "output_type": "display_data"
    }
   ],
   "source": [
    "# Fit model to data\n",
    "c = 10 # for margin\n",
    "model = LinearSVC(C=c,loss=\"hinge\")\n",
    "model.fit(X_train, y_train)\n",
    "\n",
    "y_pred = model.predict(X_test)\n",
    "\n",
    "# Confusion Matrix\n",
    "linearsvm_mat = confusion_matrix(y_test, y_pred)\n",
    "print(\"Linear Kernal SVM Confusion Matrix: \\n\", linearsvm_mat)\n",
    "\n",
    "# Accuracy\n",
    "linearsvm_acc = accuracy_score(y_test, y_pred)\n",
    "print(\"\\nLinear Kernal SVM Accuracy:\", round(linearsvm_acc,2))\n",
    "\n",
    "sns.heatmap(linearsvm_mat.T,square=True, annot=True, fmt = 'd', cbar=True)\n",
    "plt.xlabel('true label')\n",
    "plt.ylabel('predicted label')\n",
    "\n"
   ]
  },
  {
   "cell_type": "code",
   "execution_count": 60,
   "metadata": {},
   "outputs": [],
   "source": [
    "# calculate metrics\n",
    "\n",
    "# linear SVM\n",
    "linearsvm_tn = linearsvm_mat[0][0]\n",
    "linearsvm_fn = linearsvm_mat[1][0]\n",
    "linearsvm_tp = linearsvm_mat[1][1]\n",
    "linearsvm_fp = linearsvm_mat[1][0]\n",
    "linearsvm_tpr = linearsvm_tp / (linearsvm_tp + linearsvm_fn)\n",
    "linearsvm_tnr = linearsvm_tn / (linearsvm_tn + linearsvm_fp)"
   ]
  },
  {
   "cell_type": "markdown",
   "metadata": {},
   "source": [
    "#### 1.2 Gaussian Kernal SVM"
   ]
  },
  {
   "cell_type": "code",
   "execution_count": 61,
   "metadata": {},
   "outputs": [
    {
     "name": "stdout",
     "output_type": "stream",
     "text": [
      "Gaussian Kernal SVM Confusion Matrix: \n",
      " [[31  4]\n",
      " [ 2 33]]\n",
      "\n",
      "Gaussian Kernal SVM Accuracy: 0.91\n"
     ]
    },
    {
     "data": {
      "text/plain": [
       "Text(80.45200000000001, 0.5, 'predicted label')"
      ]
     },
     "execution_count": 61,
     "metadata": {},
     "output_type": "execute_result"
    },
    {
     "data": {
      "image/png": "[encoded data removed]",
      "text/plain": [
       "<Figure size 432x288 with 2 Axes>"
      ]
     },
     "metadata": {},
     "output_type": "display_data"
    }
   ],
   "source": [
    "# Fit model to data\n",
    "c = 10 # for margin\n",
    "model = svm.SVC(kernel=\"rbf\", gamma=0.7, C=c)\n",
    "model.fit(X_train, y_train)\n",
    "\n",
    "y_pred = model.predict(X_test)\n",
    "\n",
    "# Confusion Matrix\n",
    "gaussiansvm_mat = confusion_matrix(y_test, y_pred)\n",
    "print(\"Gaussian Kernal SVM Confusion Matrix: \\n\", gaussiansvm_mat)\n",
    "\n",
    "# Accuracy\n",
    "gaussiansvm_acc = accuracy_score(y_test, y_pred)\n",
    "print(\"\\nGaussian Kernal SVM Accuracy:\", round(gaussiansvm_acc,2))\n",
    "\n",
    "sns.heatmap(gaussiansvm_mat.T,square=True, annot=True, fmt = 'd', cbar=True)\n",
    "plt.xlabel('true label')\n",
    "plt.ylabel('predicted label')\n",
    "\n"
   ]
  },
  {
   "cell_type": "code",
   "execution_count": 62,
   "metadata": {},
   "outputs": [],
   "source": [
    "# calculate metrics\n",
    "\n",
    "# gaussian SVM\n",
    "gaussiansvm_tn = gaussiansvm_mat[0][0]\n",
    "gaussiansvm_fn = gaussiansvm_mat[1][0]\n",
    "gaussiansvm_tp = gaussiansvm_mat[1][1]\n",
    "gaussiansvm_fp = gaussiansvm_mat[1][0]\n",
    "gaussiansvm_tpr = gaussiansvm_tp / (gaussiansvm_tp + gaussiansvm_fn)\n",
    "gaussiansvm_tnr = gaussiansvm_tn / (gaussiansvm_tn + gaussiansvm_fp)"
   ]
  },
  {
   "cell_type": "markdown",
   "metadata": {},
   "source": [
    "#### 1.3 Third Degree Polynomial Kernal SVM"
   ]
  },
  {
   "cell_type": "code",
   "execution_count": 63,
   "metadata": {},
   "outputs": [
    {
     "name": "stdout",
     "output_type": "stream",
     "text": [
      "Third Degree Polynomial Kernal SVM Confusion Matrix: \n",
      " [[32  3]\n",
      " [ 4 31]]\n",
      "\n",
      "Third Degree Polynomial Kernal SVM Accuracy: 0.9\n"
     ]
    },
    {
     "data": {
      "text/plain": [
       "Text(80.45200000000001, 0.5, 'predicted label')"
      ]
     },
     "execution_count": 63,
     "metadata": {},
     "output_type": "execute_result"
    },
    {
     "data": {
      "image/png": "[encoded data removed]",
      "text/plain": [
       "<Figure size 432x288 with 2 Axes>"
      ]
     },
     "metadata": {},
     "output_type": "display_data"
    }
   ],
   "source": [
    "# Fit model to data\n",
    "c = 10 # for margin\n",
    "model = svm.SVC(kernel=\"poly\", degree=3, gamma=\"auto\", C=c)\n",
    "model.fit(X_train, y_train)\n",
    "\n",
    "y_pred = model.predict(X_test)\n",
    "\n",
    "# Confusion Matrix\n",
    "poly3svm_mat = confusion_matrix(y_test, y_pred)\n",
    "print(\"Third Degree Polynomial Kernal SVM Confusion Matrix: \\n\", poly3svm_mat)\n",
    "\n",
    "# Accuracy\n",
    "poly3svm_acc = accuracy_score(y_test, y_pred)\n",
    "print(\"\\nThird Degree Polynomial Kernal SVM Accuracy:\", round(poly3svm_acc,2))\n",
    "\n",
    "sns.heatmap(poly3svm_mat.T,square=True, annot=True, fmt = 'd', cbar=True)\n",
    "plt.xlabel('true label')\n",
    "plt.ylabel('predicted label')\n",
    "\n"
   ]
  },
  {
   "cell_type": "code",
   "execution_count": 64,
   "metadata": {},
   "outputs": [],
   "source": [
    "# calculate metrics\n",
    "\n",
    "# polynomial (n=3) SVM\n",
    "poly3svm_tn = poly3svm_mat[0][0]\n",
    "poly3svm_fn = poly3svm_mat[1][0]\n",
    "poly3svm_tp = poly3svm_mat[1][1]\n",
    "poly3svm_fp = poly3svm_mat[1][0]\n",
    "poly3svm_tpr = poly3svm_tp / (poly3svm_tp + poly3svm_fn)\n",
    "poly3svm_tnr = poly3svm_tn / (poly3svm_tn + poly3svm_fp)"
   ]
  },
  {
   "cell_type": "markdown",
   "metadata": {},
   "source": [
    "### 2 - Naive Bayes Classifier"
   ]
  },
  {
   "cell_type": "code",
   "execution_count": 65,
   "metadata": {},
   "outputs": [
    {
     "name": "stdout",
     "output_type": "stream",
     "text": [
      "Naive Bayes Confusion Matrix: \n",
      " [[34  1]\n",
      " [ 4 31]]\n",
      "\n",
      "Naive Bayes Accuracy: 0.93\n"
     ]
    },
    {
     "data": {
      "text/plain": [
       "Text(80.45200000000001, 0.5, 'predicted label')"
      ]
     },
     "execution_count": 65,
     "metadata": {},
     "output_type": "execute_result"
    },
    {
     "data": {
      "image/png": "[encoded data removed]",
      "text/plain": [
       "<Figure size 432x288 with 2 Axes>"
      ]
     },
     "metadata": {},
     "output_type": "display_data"
    }
   ],
   "source": [
    "model = GaussianNB()\n",
    "model.fit(X_train, y_train)\n",
    "\n",
    "y_pred = model.predict(X_test)\n",
    "\n",
    "# Confusion Matrix\n",
    "nb_mat = confusion_matrix(y_test, y_pred)\n",
    "print(\"Naive Bayes Confusion Matrix: \\n\", nb_mat)\n",
    "\n",
    "# Accuracy\n",
    "nb_acc = accuracy_score(y_test, y_pred)\n",
    "print(\"\\nNaive Bayes Accuracy:\", round(nb_acc,2))\n",
    "\n",
    "sns.heatmap(nb_mat.T,square=True, annot=True, fmt = 'd', cbar=True)\n",
    "plt.xlabel('true label')\n",
    "plt.ylabel('predicted label')"
   ]
  },
  {
   "cell_type": "code",
   "execution_count": 66,
   "metadata": {},
   "outputs": [],
   "source": [
    "# calculate metrics \n",
    "\n",
    "# naive bayes\n",
    "nb_tn = nb_mat[0][0]\n",
    "nb_fn = nb_mat[1][0]\n",
    "nb_tp = nb_mat[1][1]\n",
    "nb_fp = nb_mat[1][0]\n",
    "nb_tpr = nb_tp / (nb_tp + nb_fn)\n",
    "nb_tnr = nb_tn / (nb_tn + nb_fp)"
   ]
  },
  {
   "cell_type": "markdown",
   "metadata": {},
   "source": [
    "#### 2-2 Summary Table"
   ]
  },
  {
   "cell_type": "code",
   "execution_count": 67,
   "metadata": {},
   "outputs": [
    {
     "data": {
      "text/html": [
       "<div>\n",
       "<style scoped>\n",
       "    .dataframe tbody tr th:only-of-type {\n",
       "        vertical-align: middle;\n",
       "    }\n",
       "\n",
       "    .dataframe tbody tr th {\n",
       "        vertical-align: top;\n",
       "    }\n",
       "\n",
       "    .dataframe thead th {\n",
       "        text-align: right;\n",
       "    }\n",
       "</style>\n",
       "<table border=\"1\" class=\"dataframe\">\n",
       "  <thead>\n",
       "    <tr style=\"text-align: right;\">\n",
       "      <th></th>\n",
       "      <th>Model</th>\n",
       "      <th>TP</th>\n",
       "      <th>FP</th>\n",
       "      <th>TN</th>\n",
       "      <th>FN</th>\n",
       "      <th>Accuracy</th>\n",
       "      <th>TPR</th>\n",
       "      <th>TNR</th>\n",
       "    </tr>\n",
       "  </thead>\n",
       "  <tbody>\n",
       "    <tr>\n",
       "      <th>0</th>\n",
       "      <td>Linear SVM</td>\n",
       "      <td>31</td>\n",
       "      <td>4</td>\n",
       "      <td>34</td>\n",
       "      <td>4</td>\n",
       "      <td>0.928571</td>\n",
       "      <td>0.885714</td>\n",
       "      <td>0.894737</td>\n",
       "    </tr>\n",
       "    <tr>\n",
       "      <th>1</th>\n",
       "      <td>Gaussian SVM</td>\n",
       "      <td>33</td>\n",
       "      <td>2</td>\n",
       "      <td>31</td>\n",
       "      <td>2</td>\n",
       "      <td>0.914286</td>\n",
       "      <td>0.942857</td>\n",
       "      <td>0.939394</td>\n",
       "    </tr>\n",
       "    <tr>\n",
       "      <th>2</th>\n",
       "      <td>Polynomial SVM (n=3)</td>\n",
       "      <td>31</td>\n",
       "      <td>4</td>\n",
       "      <td>32</td>\n",
       "      <td>4</td>\n",
       "      <td>0.900000</td>\n",
       "      <td>0.885714</td>\n",
       "      <td>0.888889</td>\n",
       "    </tr>\n",
       "    <tr>\n",
       "      <th>3</th>\n",
       "      <td>Naive Bayes</td>\n",
       "      <td>31</td>\n",
       "      <td>4</td>\n",
       "      <td>34</td>\n",
       "      <td>4</td>\n",
       "      <td>0.928571</td>\n",
       "      <td>0.885714</td>\n",
       "      <td>0.894737</td>\n",
       "    </tr>\n",
       "  </tbody>\n",
       "</table>\n",
       "</div>"
      ],
      "text/plain": [
       "                  Model   TP  FP  TN  FN  Accuracy       TPR       TNR\n",
       "0            Linear SVM   31   4  34   4  0.928571  0.885714  0.894737\n",
       "1          Gaussian SVM   33   2  31   2  0.914286  0.942857  0.939394\n",
       "2  Polynomial SVM (n=3)   31   4  32   4  0.900000  0.885714  0.888889\n",
       "3           Naive Bayes   31   4  34   4  0.928571  0.885714  0.894737"
      ]
     },
     "execution_count": 67,
     "metadata": {},
     "output_type": "execute_result"
    }
   ],
   "source": [
    "summary = [['Linear SVM', nb_tp, nb_fp, nb_tn, nb_fn, nb_acc, nb_tpr, nb_tnr],\n",
    "        ['Gaussian SVM', gaussiansvm_tp, gaussiansvm_fp, gaussiansvm_tn, gaussiansvm_fn, gaussiansvm_acc, gaussiansvm_tpr, gaussiansvm_tnr],\n",
    "        ['Polynomial SVM (n=3)', poly3svm_tp, poly3svm_fp, poly3svm_tn, poly3svm_fn, poly3svm_acc, poly3svm_tpr, poly3svm_tnr],\n",
    "        ['Naive Bayes', nb_tp, nb_fp, nb_tn, nb_fn, nb_acc, nb_tpr, nb_tnr],\n",
    "        ]\n",
    "\n",
    "summary_df = pd.DataFrame(summary, columns=['Model',' TP','FP','TN','FN','Accuracy','TPR','TNR'])\n",
    "summary_df.head()"
   ]
  },
  {
   "cell_type": "markdown",
   "metadata": {},
   "source": [
    "**Discussion**: Based on these results, the Linear SVM and Naive Bayes models produce the highest accuracy. Interestingly, they have the exact same true positive and true negative rates. Despite not having the highest accuracy score, the Gaussian SVM model may be the better model to use because it has the highest true positive and true negative scores while being close to the Linear SVM and Naive Bayes models in terms of accuracy."
   ]
  },
  {
   "cell_type": "markdown",
   "metadata": {},
   "source": [
    "### 3 k-Means Clustering"
   ]
  },
  {
   "cell_type": "code",
   "execution_count": 70,
   "metadata": {},
   "outputs": [
    {
     "data": {
      "text/plain": [
       "array([1, 2, 3], dtype=int64)"
      ]
     },
     "execution_count": 70,
     "metadata": {},
     "output_type": "execute_result"
    }
   ],
   "source": [
    "# check unique values in target variable\n",
    "raw_seeds.L.unique()"
   ]
  },
  {
   "cell_type": "code",
   "execution_count": 71,
   "metadata": {},
   "outputs": [],
   "source": [
    "# prep data\n",
    "X = raw_seeds.loc[:,'f1':'f7'].copy().to_numpy()\n",
    "y = raw_seeds.loc[:, 'L'].copy().to_numpy()"
   ]
  },
  {
   "cell_type": "code",
   "execution_count": 72,
   "metadata": {},
   "outputs": [],
   "source": [
    "def create_knee_plot(X, max_k):\n",
    "  sse = []\n",
    "  for i in range(1,max_k+1):\n",
    "    kmeans = KMeans(n_clusters=i)\n",
    "    kmeans.fit(X)\n",
    "    sse.append(kmeans.inertia_)\n",
    "  plt.plot(range(1,max_k+1), sse, '-b')\n",
    "  plt.xlabel('k')\n",
    "  plt.ylabel('Inertia (SSE)')\n",
    "  plt.title('Knee Plot')"
   ]
  },
  {
   "cell_type": "code",
   "execution_count": 73,
   "metadata": {},
   "outputs": [
    {
     "name": "stderr",
     "output_type": "stream",
     "text": [
      "c:\\Users\\Nigel\\anaconda3\\envs\\cs677\\lib\\site-packages\\sklearn\\cluster\\_kmeans.py:1036: UserWarning: KMeans is known to have a memory leak on Windows with MKL, when there are less chunks than available threads. You can avoid it by setting the environment variable OMP_NUM_THREADS=1.\n",
      "  warnings.warn(\n"
     ]
    },
    {
     "data": {
      "image/png": "[encoded data removed]",
      "text/plain": [
       "<Figure size 432x288 with 1 Axes>"
      ]
     },
     "metadata": {},
     "output_type": "display_data"
    }
   ],
   "source": [
    "create_knee_plot(X,8)"
   ]
  },
  {
   "cell_type": "markdown",
   "metadata": {},
   "source": [
    "The best *k* seems to be *k*=3."
   ]
  },
  {
   "cell_type": "markdown",
   "metadata": {},
   "source": [
    "#### 3-2 K-Means Clustering (Optimal *k*)"
   ]
  },
  {
   "cell_type": "code",
   "execution_count": 84,
   "metadata": {},
   "outputs": [
    {
     "data": {
      "text/html": [
       "<div>\n",
       "<style scoped>\n",
       "    .dataframe tbody tr th:only-of-type {\n",
       "        vertical-align: middle;\n",
       "    }\n",
       "\n",
       "    .dataframe tbody tr th {\n",
       "        vertical-align: top;\n",
       "    }\n",
       "\n",
       "    .dataframe thead th {\n",
       "        text-align: right;\n",
       "    }\n",
       "</style>\n",
       "<table border=\"1\" class=\"dataframe\">\n",
       "  <thead>\n",
       "    <tr style=\"text-align: right;\">\n",
       "      <th></th>\n",
       "      <th>f1</th>\n",
       "      <th>f2</th>\n",
       "      <th>f3</th>\n",
       "      <th>f4</th>\n",
       "      <th>f5</th>\n",
       "      <th>f6</th>\n",
       "      <th>f7</th>\n",
       "      <th>L</th>\n",
       "    </tr>\n",
       "  </thead>\n",
       "  <tbody>\n",
       "    <tr>\n",
       "      <th>0</th>\n",
       "      <td>15.26</td>\n",
       "      <td>14.84</td>\n",
       "      <td>0.8710</td>\n",
       "      <td>5.763</td>\n",
       "      <td>3.312</td>\n",
       "      <td>2.221</td>\n",
       "      <td>5.220</td>\n",
       "      <td>1</td>\n",
       "    </tr>\n",
       "    <tr>\n",
       "      <th>1</th>\n",
       "      <td>14.88</td>\n",
       "      <td>14.57</td>\n",
       "      <td>0.8811</td>\n",
       "      <td>5.554</td>\n",
       "      <td>3.333</td>\n",
       "      <td>1.018</td>\n",
       "      <td>4.956</td>\n",
       "      <td>1</td>\n",
       "    </tr>\n",
       "    <tr>\n",
       "      <th>2</th>\n",
       "      <td>14.29</td>\n",
       "      <td>14.09</td>\n",
       "      <td>0.9050</td>\n",
       "      <td>5.291</td>\n",
       "      <td>3.337</td>\n",
       "      <td>2.699</td>\n",
       "      <td>4.825</td>\n",
       "      <td>1</td>\n",
       "    </tr>\n",
       "    <tr>\n",
       "      <th>3</th>\n",
       "      <td>13.84</td>\n",
       "      <td>13.94</td>\n",
       "      <td>0.8955</td>\n",
       "      <td>5.324</td>\n",
       "      <td>3.379</td>\n",
       "      <td>2.259</td>\n",
       "      <td>4.805</td>\n",
       "      <td>1</td>\n",
       "    </tr>\n",
       "    <tr>\n",
       "      <th>4</th>\n",
       "      <td>16.14</td>\n",
       "      <td>14.99</td>\n",
       "      <td>0.9034</td>\n",
       "      <td>5.658</td>\n",
       "      <td>3.562</td>\n",
       "      <td>1.355</td>\n",
       "      <td>5.175</td>\n",
       "      <td>1</td>\n",
       "    </tr>\n",
       "  </tbody>\n",
       "</table>\n",
       "</div>"
      ],
      "text/plain": [
       "      f1     f2      f3     f4     f5     f6     f7  L\n",
       "0  15.26  14.84  0.8710  5.763  3.312  2.221  5.220  1\n",
       "1  14.88  14.57  0.8811  5.554  3.333  1.018  4.956  1\n",
       "2  14.29  14.09  0.9050  5.291  3.337  2.699  4.825  1\n",
       "3  13.84  13.94  0.8955  5.324  3.379  2.259  4.805  1\n",
       "4  16.14  14.99  0.9034  5.658  3.562  1.355  5.175  1"
      ]
     },
     "execution_count": 84,
     "metadata": {},
     "output_type": "execute_result"
    }
   ],
   "source": [
    "raw_seeds.head()"
   ]
  },
  {
   "cell_type": "code",
   "execution_count": 112,
   "metadata": {},
   "outputs": [],
   "source": [
    "# select two features at random\n",
    "import random\n",
    "\n",
    "seq = list(range(0,X.shape[1])) # numeric list representing the index of each feature\n",
    "\n",
    "f = random.sample(seq,2) # object containing two randomly selected feature indices "
   ]
  },
  {
   "cell_type": "code",
   "execution_count": 138,
   "metadata": {},
   "outputs": [
    {
     "data": {
      "text/plain": [
       "Text(0, 0.5, 'f = 2')"
      ]
     },
     "execution_count": 138,
     "metadata": {},
     "output_type": "execute_result"
    },
    {
     "data": {
      "image/png": "[encoded data removed]",
      "text/plain": [
       "<Figure size 432x288 with 1 Axes>"
      ]
     },
     "metadata": {},
     "output_type": "display_data"
    }
   ],
   "source": [
    "kmeans = KMeans(3, random_state=0) # optimal k\n",
    "labels = kmeans.fit(X).predict(X)\n",
    "#plot the clusters\n",
    "plt.scatter(X[:, f[0]], X[:, f[1]], c=labels, s=40, cmap='viridis')\n",
    "\n",
    "#plot the centroids\n",
    "centers = kmeans.cluster_centers_\n",
    "plt.scatter(centers[:, f[0]], centers[:,f[1]], c='black', s=200, alpha=0.8)\n",
    "plt.xlabel('f = {}'.format(f[0]))\n",
    "plt.ylabel('f = {}'.format(f[1]))"
   ]
  },
  {
   "cell_type": "markdown",
   "metadata": {},
   "source": [
    "**Interesting Pattern**: There is a clearer separation between class 2 and class 3 than between class 1 and class 2, with these two features."
   ]
  },
  {
   "cell_type": "markdown",
   "metadata": {},
   "source": [
    "### 3-3 Apply cluster labels"
   ]
  },
  {
   "cell_type": "code",
   "execution_count": 145,
   "metadata": {},
   "outputs": [
    {
     "data": {
      "text/plain": [
       "array([0, 2, 1])"
      ]
     },
     "execution_count": 145,
     "metadata": {},
     "output_type": "execute_result"
    }
   ],
   "source": [
    "clusters = pd.Series(labels)\n",
    "clusters.unique()"
   ]
  },
  {
   "cell_type": "code",
   "execution_count": 170,
   "metadata": {},
   "outputs": [
    {
     "data": {
      "text/plain": [
       "array([14.64847222, 14.46041667,  0.87916667,  5.56377778,  3.27790278,\n",
       "        2.64893333,  5.19231944])"
      ]
     },
     "execution_count": 170,
     "metadata": {},
     "output_type": "execute_result"
    }
   ],
   "source": [
    "centers[0].flatten()"
   ]
  },
  {
   "cell_type": "code",
   "execution_count": 146,
   "metadata": {},
   "outputs": [],
   "source": [
    "true_label = raw_seeds['L']"
   ]
  },
  {
   "cell_type": "code",
   "execution_count": 184,
   "metadata": {},
   "outputs": [
    {
     "data": {
      "text/html": [
       "<div>\n",
       "<style scoped>\n",
       "    .dataframe tbody tr th:only-of-type {\n",
       "        vertical-align: middle;\n",
       "    }\n",
       "\n",
       "    .dataframe tbody tr th {\n",
       "        vertical-align: top;\n",
       "    }\n",
       "\n",
       "    .dataframe thead th {\n",
       "        text-align: right;\n",
       "    }\n",
       "</style>\n",
       "<table border=\"1\" class=\"dataframe\">\n",
       "  <thead>\n",
       "    <tr style=\"text-align: right;\">\n",
       "      <th></th>\n",
       "      <th>cluster</th>\n",
       "      <th>class</th>\n",
       "      <th>cnt</th>\n",
       "    </tr>\n",
       "  </thead>\n",
       "  <tbody>\n",
       "    <tr>\n",
       "      <th>0</th>\n",
       "      <td>0</td>\n",
       "      <td>1</td>\n",
       "      <td>60</td>\n",
       "    </tr>\n",
       "    <tr>\n",
       "      <th>1</th>\n",
       "      <td>0</td>\n",
       "      <td>2</td>\n",
       "      <td>10</td>\n",
       "    </tr>\n",
       "    <tr>\n",
       "      <th>2</th>\n",
       "      <td>0</td>\n",
       "      <td>3</td>\n",
       "      <td>2</td>\n",
       "    </tr>\n",
       "    <tr>\n",
       "      <th>3</th>\n",
       "      <td>1</td>\n",
       "      <td>1</td>\n",
       "      <td>1</td>\n",
       "    </tr>\n",
       "    <tr>\n",
       "      <th>4</th>\n",
       "      <td>1</td>\n",
       "      <td>2</td>\n",
       "      <td>60</td>\n",
       "    </tr>\n",
       "    <tr>\n",
       "      <th>5</th>\n",
       "      <td>2</td>\n",
       "      <td>1</td>\n",
       "      <td>9</td>\n",
       "    </tr>\n",
       "    <tr>\n",
       "      <th>6</th>\n",
       "      <td>2</td>\n",
       "      <td>3</td>\n",
       "      <td>68</td>\n",
       "    </tr>\n",
       "  </tbody>\n",
       "</table>\n",
       "</div>"
      ],
      "text/plain": [
       "   cluster  class  cnt\n",
       "0        0      1   60\n",
       "1        0      2   10\n",
       "2        0      3    2\n",
       "3        1      1    1\n",
       "4        1      2   60\n",
       "5        2      1    9\n",
       "6        2      3   68"
      ]
     },
     "execution_count": 184,
     "metadata": {},
     "output_type": "execute_result"
    }
   ],
   "source": [
    "kmeans_df = pd.concat([clusters,true_label], axis=1).rename(columns={0:'cluster','L':'class'})\n",
    "kmeans_df['cnt'] = 1\n",
    "k_means_df = kmeans_df.groupby(['cluster','class'])['cnt'].sum().reset_index()\n",
    "k_means_df\n"
   ]
  },
  {
   "cell_type": "code",
   "execution_count": 202,
   "metadata": {},
   "outputs": [
    {
     "name": "stdout",
     "output_type": "stream",
     "text": [
      "\n",
      "Assigned Label:  1-Kama\n",
      "Centroid: [14.64847222 14.46041667  0.87916667  5.56377778  3.27790278  2.64893333\n",
      "  5.19231944]\n",
      "\n",
      "Assigned Label:  2-Rosa\n",
      "Centroid: [18.72180328 16.29737705  0.88508689  6.20893443  3.72267213  3.60359016\n",
      "  6.06609836]\n",
      "\n",
      "Assigned Label:  3-Canadian\n",
      "Centroid: [11.96441558 13.27480519  0.8522      5.22928571  2.87292208  4.75974026\n",
      "  5.08851948]\n"
     ]
    }
   ],
   "source": [
    "# cluster 0\n",
    "print(\"\\nAssigned Label: \", '1-Kama')\n",
    "print(\"Centroid:\", centers[0])\n",
    "\n",
    "# cluster 1\n",
    "print(\"\\nAssigned Label: \", '2-Rosa')\n",
    "print(\"Centroid:\", centers[1])\n",
    "\n",
    "# cluster 2\n",
    "print(\"\\nAssigned Label: \", '3-Canadian')\n",
    "print(\"Centroid:\", centers[2])\n"
   ]
  },
  {
   "cell_type": "markdown",
   "metadata": {},
   "source": [
    "#### 3-4 Multi-Label Classifier using Euclidean Distance"
   ]
  },
  {
   "cell_type": "code",
   "execution_count": 203,
   "metadata": {},
   "outputs": [
    {
     "data": {
      "text/html": [
       "<div>\n",
       "<style scoped>\n",
       "    .dataframe tbody tr th:only-of-type {\n",
       "        vertical-align: middle;\n",
       "    }\n",
       "\n",
       "    .dataframe tbody tr th {\n",
       "        vertical-align: top;\n",
       "    }\n",
       "\n",
       "    .dataframe thead th {\n",
       "        text-align: right;\n",
       "    }\n",
       "</style>\n",
       "<table border=\"1\" class=\"dataframe\">\n",
       "  <thead>\n",
       "    <tr style=\"text-align: right;\">\n",
       "      <th></th>\n",
       "      <th>f1</th>\n",
       "      <th>f2</th>\n",
       "      <th>f3</th>\n",
       "      <th>f4</th>\n",
       "      <th>f5</th>\n",
       "      <th>f6</th>\n",
       "      <th>f7</th>\n",
       "      <th>L</th>\n",
       "    </tr>\n",
       "  </thead>\n",
       "  <tbody>\n",
       "    <tr>\n",
       "      <th>0</th>\n",
       "      <td>15.26</td>\n",
       "      <td>14.84</td>\n",
       "      <td>0.8710</td>\n",
       "      <td>5.763</td>\n",
       "      <td>3.312</td>\n",
       "      <td>2.221</td>\n",
       "      <td>5.220</td>\n",
       "      <td>1</td>\n",
       "    </tr>\n",
       "    <tr>\n",
       "      <th>1</th>\n",
       "      <td>14.88</td>\n",
       "      <td>14.57</td>\n",
       "      <td>0.8811</td>\n",
       "      <td>5.554</td>\n",
       "      <td>3.333</td>\n",
       "      <td>1.018</td>\n",
       "      <td>4.956</td>\n",
       "      <td>1</td>\n",
       "    </tr>\n",
       "    <tr>\n",
       "      <th>2</th>\n",
       "      <td>14.29</td>\n",
       "      <td>14.09</td>\n",
       "      <td>0.9050</td>\n",
       "      <td>5.291</td>\n",
       "      <td>3.337</td>\n",
       "      <td>2.699</td>\n",
       "      <td>4.825</td>\n",
       "      <td>1</td>\n",
       "    </tr>\n",
       "    <tr>\n",
       "      <th>3</th>\n",
       "      <td>13.84</td>\n",
       "      <td>13.94</td>\n",
       "      <td>0.8955</td>\n",
       "      <td>5.324</td>\n",
       "      <td>3.379</td>\n",
       "      <td>2.259</td>\n",
       "      <td>4.805</td>\n",
       "      <td>1</td>\n",
       "    </tr>\n",
       "    <tr>\n",
       "      <th>4</th>\n",
       "      <td>16.14</td>\n",
       "      <td>14.99</td>\n",
       "      <td>0.9034</td>\n",
       "      <td>5.658</td>\n",
       "      <td>3.562</td>\n",
       "      <td>1.355</td>\n",
       "      <td>5.175</td>\n",
       "      <td>1</td>\n",
       "    </tr>\n",
       "  </tbody>\n",
       "</table>\n",
       "</div>"
      ],
      "text/plain": [
       "      f1     f2      f3     f4     f5     f6     f7  L\n",
       "0  15.26  14.84  0.8710  5.763  3.312  2.221  5.220  1\n",
       "1  14.88  14.57  0.8811  5.554  3.333  1.018  4.956  1\n",
       "2  14.29  14.09  0.9050  5.291  3.337  2.699  4.825  1\n",
       "3  13.84  13.94  0.8955  5.324  3.379  2.259  4.805  1\n",
       "4  16.14  14.99  0.9034  5.658  3.562  1.355  5.175  1"
      ]
     },
     "execution_count": 203,
     "metadata": {},
     "output_type": "execute_result"
    }
   ],
   "source": [
    "raw_seeds.head()"
   ]
  },
  {
   "cell_type": "code",
   "execution_count": 206,
   "metadata": {},
   "outputs": [
    {
     "data": {
      "text/plain": [
       "numpy.ndarray"
      ]
     },
     "execution_count": 206,
     "metadata": {},
     "output_type": "execute_result"
    }
   ],
   "source": [
    "# calculate euclidean distances for centroids and for each observation and then compare the distances, and assign to clusters   "
   ]
  },
  {
   "cell_type": "code",
   "execution_count": null,
   "metadata": {},
   "outputs": [],
   "source": []
  }
 ],
 "metadata": {
  "kernelspec": {
   "display_name": "Python 3.9.7 ('cs677')",
   "language": "python",
   "name": "python3"
  },
  "language_info": {
   "codemirror_mode": {
    "name": "ipython",
    "version": 3
   },
   "file_extension": ".py",
   "mimetype": "text/x-python",
   "name": "python",
   "nbconvert_exporter": "python",
   "pygments_lexer": "ipython3",
   "version": "3.9.7"
  },
  "orig_nbformat": 4,
  "vscode": {
   "interpreter": {
    "hash": "f9c230b915196ac28d71b096ff22ea713a8a1e776d54f1388c0dccb3caadea09"
   }
  }
 },
 "nbformat": 4,
 "nbformat_minor": 2
}
